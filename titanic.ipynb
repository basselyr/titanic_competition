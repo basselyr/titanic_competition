{
  "cells": [
    {
      "cell_type": "markdown",
      "metadata": {
        "id": "LfzAhT1AO6-C"
      },
      "source": [
        "# Titanic Survival Predictions (Kaggle)"
      ]
    },
    {
      "cell_type": "markdown",
      "metadata": {
        "id": "OwhL5xETO6-D"
      },
      "source": [
        "## Importing Libraries"
      ]
    },
    {
      "cell_type": "code",
      "execution_count": null,
      "metadata": {
        "id": "0eZhLFsqO6-E"
      },
      "outputs": [],
      "source": [
        "import pandas as pd\n",
        "import matplotlib.pyplot as plt\n",
        "import numpy as np"
      ]
    },
    {
      "cell_type": "markdown",
      "metadata": {
        "id": "WgqKM7rpO6-F"
      },
      "source": [
        "## Importing Dataset"
      ]
    },
    {
      "cell_type": "code",
      "execution_count": null,
      "metadata": {
        "colab": {
          "base_uri": "https://localhost:8080/",
          "height": 142
        },
        "id": "SqAbQm5CO6-F",
        "outputId": "ee9ec27f-3ead-482c-e729-6b73b6e2fceb"
      },
      "outputs": [],
      "source": [
        "training_set = pd.read_csv(\"train.csv\")\n",
        "test_set = pd.read_csv(\"test.csv\")\n",
        "training_set.name = 'Training Set'\n",
        "test_set.name = 'Test Set'\n",
        "training_set.sample(3)"
      ]
    },
    {
      "cell_type": "code",
      "execution_count": null,
      "metadata": {
        "colab": {
          "base_uri": "https://localhost:8080/"
        },
        "id": "D0SnPlBB8HQq",
        "outputId": "c7aa565f-2945-486f-a188-bb53dbefd31e"
      },
      "outputs": [],
      "source": [
        "!pip install fasteda"
      ]
    },
    {
      "cell_type": "markdown",
      "metadata": {
        "id": "DXaqYzHUO6-G"
      },
      "source": [
        "## Dropping Irrelevant Columns"
      ]
    },
    {
      "cell_type": "code",
      "execution_count": null,
      "metadata": {
        "id": "x1cC9l73O6-G"
      },
      "outputs": [],
      "source": [
        "training_set = training_set.drop(\"PassengerId\", axis='columns')\n",
        "training_set = training_set.drop(\"Ticket\", axis='columns')\n",
        "test_set = test_set.drop(\"Ticket\", axis='columns')"
      ]
    },
    {
      "cell_type": "markdown",
      "metadata": {
        "id": "Vkfih9V_O6-H"
      },
      "source": [
        "## Checking for missing values"
      ]
    },
    {
      "cell_type": "code",
      "execution_count": null,
      "metadata": {
        "colab": {
          "base_uri": "https://localhost:8080/"
        },
        "id": "BFexlL1AO6-H",
        "outputId": "023f663e-2ef8-49a4-ecf9-00dea9654d43"
      },
      "outputs": [],
      "source": [
        "def check_missing(df):\n",
        "    for col in df.columns.tolist():\n",
        "        print('{} column missing values: {}'.format(col, df[col].isnull().sum()))\n",
        "\n",
        "for df in [training_set, test_set]:\n",
        "    check_missing(df)\n",
        "    print('\\n')\n"
      ]
    },
    {
      "cell_type": "code",
      "execution_count": null,
      "metadata": {
        "colab": {
          "base_uri": "https://localhost:8080/",
          "height": 111
        },
        "id": "XaNC45vJO6-I",
        "outputId": "4c9a8e97-e49f-4077-87d8-27605b38b662"
      },
      "outputs": [],
      "source": [
        "training_set[training_set['Embarked'].isnull()]"
      ]
    },
    {
      "cell_type": "markdown",
      "metadata": {
        "id": "5HnO9LBnO6-I"
      },
      "source": [
        "## Dealing with Missing Values and Encoding"
      ]
    },
    {
      "cell_type": "markdown",
      "metadata": {
        "id": "7Yimq6uhO6-J"
      },
      "source": [
        "### Dealing with missing Embarked values"
      ]
    },
    {
      "cell_type": "code",
      "execution_count": null,
      "metadata": {
        "colab": {
          "base_uri": "https://localhost:8080/",
          "height": 142
        },
        "id": "96-a2aupO6-J",
        "outputId": "027547a0-f2bf-4dde-8e30-e71876c5cad2"
      },
      "outputs": [],
      "source": [
        "training_set['Embarked'].fillna('C', inplace=True)\n",
        "training_set.sample(3)"
      ]
    },
    {
      "cell_type": "markdown",
      "metadata": {
        "id": "fFdXnZx5O6-J"
      },
      "source": [
        "### Encoding Embarked Values"
      ]
    },
    {
      "cell_type": "code",
      "execution_count": null,
      "metadata": {
        "id": "cT8XCxKFO6-K"
      },
      "outputs": [],
      "source": [
        "from sklearn.preprocessing import OneHotEncoder\n",
        "from sklearn.compose import ColumnTransformer\n",
        "ct = ColumnTransformer([('Embarked_Transformer', OneHotEncoder(), ['Embarked'])], remainder='passthrough')\n",
        "training_set = pd.DataFrame(ct.fit_transform(training_set), columns=[0, 1, 2, 'Survived', 'PClass', 'Name', 'Sex', 'Age', 'SibSp', 'Parch', 'Fare', 'Cabin'])\n",
        "training_set.sample(2)\n",
        "test_set['Survived'] = 0\n",
        "test_set = pd.DataFrame(ct.transform(test_set), columns=[0, 1, 2, 'Survived', 'PClass', 'Name', 'Sex', 'Age', 'SibSp', 'Parch', 'Fare', 'Cabin'])\n",
        "test_set = test_set.drop('Survived', axis='columns')\n"
      ]
    },
    {
      "cell_type": "markdown",
      "metadata": {
        "id": "dthW-6t-O6-L"
      },
      "source": [
        "### Dealing with Cabin Missing Values and Keeping Deck Letter Only"
      ]
    },
    {
      "cell_type": "code",
      "execution_count": null,
      "metadata": {
        "colab": {
          "base_uri": "https://localhost:8080/",
          "height": 359
        },
        "id": "kATYcidGO6-L",
        "outputId": "f4d26b87-409d-4e5b-8eb2-44e1b7a3357e"
      },
      "outputs": [],
      "source": [
        "training_set['Cabin'].fillna('Z', inplace=True)\n",
        "test_set['Cabin'].fillna('Z', inplace=True)\n",
        "\n",
        "training_set['Cabin'] = [str(i)[0] for i in training_set['Cabin']]\n",
        "test_set['Cabin'] = [str(i)[0] for i in test_set['Cabin']]\n",
        "training_set.sample(10)"
      ]
    },
    {
      "cell_type": "markdown",
      "metadata": {
        "id": "JEujsDpIO6-M"
      },
      "source": [
        "### Encoding Cabin Column"
      ]
    },
    {
      "cell_type": "code",
      "execution_count": null,
      "metadata": {
        "id": "IkFIW16pO6-M"
      },
      "outputs": [],
      "source": [
        "from sklearn.preprocessing import LabelEncoder\n",
        "le_cabin = LabelEncoder()\n",
        "training_set['Cabin'] = le_cabin.fit_transform(training_set['Cabin'])\n",
        "test_set['Cabin'] = le_cabin.transform(test_set['Cabin'])"
      ]
    },
    {
      "cell_type": "markdown",
      "metadata": {
        "id": "iEuEaTrjO6-N"
      },
      "source": [
        "### Keeping Titles Only in Name Column"
      ]
    },
    {
      "cell_type": "code",
      "execution_count": null,
      "metadata": {
        "colab": {
          "base_uri": "https://localhost:8080/",
          "height": 359
        },
        "id": "Skbwn8fNO6-N",
        "outputId": "c7382c40-58a1-4379-bb93-cf952a90bcf6"
      },
      "outputs": [],
      "source": [
        "training_set['Initial']=0\n",
        "for i in training_set:\n",
        "    training_set['Initial']=training_set.Name.str.extract('([A-Za-z]+)\\.')\n",
        "\n",
        "training_set['Initial'].replace(['Mlle','Mme','Ms','Dr','Major','Lady','Countess','Jonkheer','Col','Rev','Capt','Sir','Don'],['Miss','Miss','Miss','Mr','Mr','Mrs','Mrs','Other','Other','Other','Mr','Mr','Mr'],inplace=True)\n",
        "\n",
        "test_set['Initial']=0\n",
        "for i in training_set:\n",
        "    test_set['Initial']=training_set.Name.str.extract('([A-Za-z]+)\\.')\n",
        "\n",
        "test_set['Initial'].replace(['Mlle','Mme','Ms','Dr','Major','Lady','Countess','Jonkheer','Col','Rev','Capt','Sir','Don'],['Miss','Miss','Miss','Mr','Mr','Mrs','Mrs','Other','Other','Other','Mr','Mr','Mr'],inplace=True)\n",
        "\n",
        "training_set['Initial'].value_counts()\n",
        "\n",
        "training_set = training_set.drop('Name', axis='columns')\n",
        "test_set = test_set.drop('Name', axis='columns')\n",
        "\n",
        "training_set.sample(10)"
      ]
    },
    {
      "cell_type": "markdown",
      "metadata": {
        "id": "UDHdurEQO6-N"
      },
      "source": [
        "### Label Encoding Initial and Sex Columns"
      ]
    },
    {
      "cell_type": "code",
      "execution_count": null,
      "metadata": {
        "id": "5hYLC7k_O6-O"
      },
      "outputs": [],
      "source": [
        "le_initial = LabelEncoder()\n",
        "training_set['Initial'] = le_initial.fit_transform(training_set['Initial'])\n",
        "test_set['Initial'] = le_initial.transform(test_set['Initial'])\n",
        "le_sex = LabelEncoder()\n",
        "training_set['Sex'] = le_sex.fit_transform(training_set['Sex'])\n",
        "test_set['Sex'] = le_sex.transform(test_set['Sex'])"
      ]
    },
    {
      "cell_type": "code",
      "execution_count": null,
      "metadata": {
        "colab": {
          "base_uri": "https://localhost:8080/",
          "height": 111
        },
        "id": "WxZOf-P7O6-O",
        "outputId": "bf638963-11aa-45a5-cff4-681ef47a429a"
      },
      "outputs": [],
      "source": [
        "test_set.sample(2)"
      ]
    },
    {
      "cell_type": "markdown",
      "metadata": {
        "id": "iJBFhRFkO6-P"
      },
      "source": [
        "### Dealing with Fare missing values"
      ]
    },
    {
      "cell_type": "code",
      "execution_count": null,
      "metadata": {
        "colab": {
          "base_uri": "https://localhost:8080/",
          "height": 142
        },
        "id": "2I5noIrVO6-P",
        "outputId": "4e084b3c-b161-402d-e210-0019454cc235"
      },
      "outputs": [],
      "source": [
        "from sklearn.impute import KNNImputer\n",
        "imputer_test = KNNImputer(missing_values=np.nan, n_neighbors=2, weights='uniform')\n",
        "test_set[['Fare']] = imputer_test.fit_transform(test_set[['Fare']])\n",
        "training_set.sample(3)"
      ]
    },
    {
      "cell_type": "markdown",
      "metadata": {
        "id": "92vrUHJuO6-P"
      },
      "source": [
        "### Dealing with Age missing values"
      ]
    },
    {
      "cell_type": "code",
      "execution_count": null,
      "metadata": {
        "colab": {
          "base_uri": "https://localhost:8080/"
        },
        "id": "4-jNlKWlO6-P",
        "outputId": "53b1f50d-5371-41fc-cdcb-a6229597976a"
      },
      "outputs": [],
      "source": [
        "training_set.groupby('Initial')['Age'].mean()"
      ]
    },
    {
      "cell_type": "markdown",
      "metadata": {
        "id": "AyTweYsMPPAt"
      },
      "source": [
        "### Setting Age missing value as mean of initial's group"
      ]
    },
    {
      "cell_type": "code",
      "execution_count": null,
      "metadata": {
        "id": "NAnRtkKIO6-Q"
      },
      "outputs": [],
      "source": [
        "training_set.loc[(training_set['Age'].isnull()) & (training_set['Initial']==0), 'Age'] = 5\n",
        "training_set.loc[(training_set['Age'].isnull()) & (training_set['Initial']==1), 'Age'] = 22\n",
        "training_set.loc[(training_set['Age'].isnull()) & (training_set['Initial']==2), 'Age'] = 33\n",
        "training_set.loc[(training_set['Age'].isnull()) & (training_set['Initial']==3), 'Age'] = 36\n",
        "training_set.loc[(training_set['Age'].isnull()) & (training_set['Initial']==4), 'Age'] = 46\n",
        "\n",
        "test_set.loc[(test_set['Age'].isnull()) & (test_set['Initial']==0), 'Age'] = 5\n",
        "test_set.loc[(test_set['Age'].isnull()) & (test_set['Initial']==1), 'Age'] = 22\n",
        "test_set.loc[(test_set['Age'].isnull()) & (test_set['Initial']==2), 'Age'] = 33\n",
        "test_set.loc[(test_set['Age'].isnull()) & (test_set['Initial']==3), 'Age'] = 36\n",
        "test_set.loc[(test_set['Age'].isnull()) & (test_set['Initial']==4), 'Age'] = 46"
      ]
    },
    {
      "cell_type": "code",
      "execution_count": null,
      "metadata": {
        "colab": {
          "base_uri": "https://localhost:8080/",
          "height": 142
        },
        "id": "tHxbFyxvO6-Q",
        "outputId": "d7190200-1c5e-44ff-f3ee-cb1710ad25d8"
      },
      "outputs": [],
      "source": [
        "training_set.sample(3)"
      ]
    },
    {
      "cell_type": "markdown",
      "metadata": {
        "id": "p2rhehBpO6-R"
      },
      "source": [
        "## Feature Scaling & Train-Test Split\n",
        "\n"
      ]
    },
    {
      "cell_type": "code",
      "execution_count": null,
      "metadata": {
        "id": "JHOi_WAmO6-R"
      },
      "outputs": [],
      "source": [
        "from sklearn.preprocessing import StandardScaler\n",
        "from sklearn.model_selection import train_test_split\n",
        "X = training_set.drop('Survived', axis='columns')\n",
        "X = X.drop('Cabin', axis='columns')\n",
        "test_set = test_set.drop('Cabin', axis='columns')\n",
        "y = training_set['Survived']\n",
        "X.columns = X.columns.astype(str)\n",
        "test_set.columns = test_set.columns.astype(str)\n",
        "X_train, X_test, y_train, y_test = train_test_split(X, y, test_size=0.15)\n",
        "sc = StandardScaler()\n",
        "X_train = sc.fit_transform(X_train)\n",
        "X_train, X_val, y_train, y_val = train_test_split(X_train, y_train, test_size=0.1)\n",
        "X_test = sc.transform(X_test)\n",
        "test_set = sc.transform(test_set)"
      ]
    },
    {
      "cell_type": "markdown",
      "metadata": {
        "id": "YAvjFMM2O6-S"
      },
      "source": [
        "## Building ANN and Confusion Matrix"
      ]
    },
    {
      "cell_type": "code",
      "execution_count": null,
      "metadata": {
        "colab": {
          "base_uri": "https://localhost:8080/"
        },
        "id": "Fzx1IlLVeMxQ",
        "outputId": "d2c1a4a8-a8b8-4d60-842e-175e4a5fb4b8"
      },
      "outputs": [],
      "source": [
        "!pip install keras-tuner"
      ]
    },
    {
      "cell_type": "code",
      "execution_count": null,
      "metadata": {
        "colab": {
          "base_uri": "https://localhost:8080/"
        },
        "id": "2kxSn_lEO6-S",
        "outputId": "b4961591-37fd-478b-934b-da69b798feea"
      },
      "outputs": [],
      "source": [
        "import tensorflow as tf\n",
        "import keras_tuner\n",
        "from sklearn.metrics import confusion_matrix, accuracy_score\n",
        "\n",
        "def build_model(hp):\n",
        "  ann = tf.keras.models.Sequential()\n",
        "\n",
        "  ann.add(tf.keras.layers.Dense(hp.Int('units_1', min_value=16, max_value=256, step=4), input_shape=(9,), activation='relu', kernel_initializer='lecun_uniform'))\n",
        "  ann.add(tf.keras.layers.Dropout(hp.Float('dropout_rate_1', min_value=0.0, max_value=0.9, step=0.1)))\n",
        "  ann.add(tf.keras.layers.Dense(hp.Int('units_2', min_value=16, max_value=256, step=4), activation='relu', kernel_initializer='lecun_uniform'))\n",
        "  ann.add(tf.keras.layers.Dropout(hp.Float('dropout_rate_2', min_value=0.0, max_value=0.9, step=0.1)))\n",
        "  ann.add(tf.keras.layers.Dense(hp.Int('units_3', min_value=16, max_value=256, step=4), activation='relu', kernel_initializer='lecun_uniform'))\n",
        "  ann.add(tf.keras.layers.Dropout(hp.Float('dropout_rate_3', min_value=0.0, max_value=0.9, step=0.1)))\n",
        "  ann.add(tf.keras.layers.Dense(hp.Int('units_4', min_value=0, max_value=256, step=4)))\n",
        "  ann.add(tf.keras.layers.Dropout(hp.Float('dropout_rate_4', min_value=0.0, max_value=0.9, step=0.1)))\n",
        "\n",
        "  ann.add(tf.keras.layers.Dense(units=1, activation='sigmoid'))\n",
        "  ann.compile(optimizer=tf.keras.optimizers.Adam(learning_rate=hp.Float('learning_rate', min_value=0.001, max_value=0.05, step=0.001)), loss='binary_crossentropy', metrics=['accuracy'])\n",
        "  return ann\n",
        "\n",
        "X_train = np.asarray(X_train).astype(np.float32)\n",
        "y_train = np.asarray(y_train).astype(np.float32)\n",
        "X_test = np.asarray(X_test).astype(np.float32)\n",
        "y_test = np.asarray(y_test).astype(np.float32)\n",
        "X_val = np.asarray(X_val).astype(np.float32)\n",
        "y_val = np.asarray(y_val).astype(np.float32)\n",
        "\n",
        "tuner = keras_tuner.BayesianOptimization(build_model,\n",
        "                                 objective=['accuracy','val_accuracy'],\n",
        "                                 max_trials=250)\n",
        "tuner.search(X_train, y_train, validation_data=(X_val, y_val))\n",
        "best_models = tuner.get_best_models(num_models=5)\n",
        "tuner.results_summary()\n"
      ]
    },
    {
      "cell_type": "markdown",
      "metadata": {
        "id": "FTEfRqTzglag"
      },
      "source": [
        "## Running Tuned ANN"
      ]
    },
    {
      "cell_type": "code",
      "execution_count": null,
      "metadata": {
        "colab": {
          "base_uri": "https://localhost:8080/"
        },
        "id": "o7aQssplglCz",
        "outputId": "a16ceb04-bb97-4606-9791-6e7074a99544"
      },
      "outputs": [],
      "source": [
        "for j in range(0,5):\n",
        "  best_models[j].fit(X_train, y_train, epochs=30, batch_size=32)\n"
      ]
    },
    {
      "cell_type": "markdown",
      "metadata": {
        "id": "ycZeB5i3d8-r"
      },
      "source": [
        "## Confusion Matrix & Accuracy Score for ANN"
      ]
    },
    {
      "cell_type": "code",
      "execution_count": null,
      "metadata": {
        "colab": {
          "base_uri": "https://localhost:8080/"
        },
        "id": "tFMZF_JMeAPp",
        "outputId": "41dff1e6-c7f1-4094-e658-d97a8c89bac5"
      },
      "outputs": [],
      "source": [
        "for j in range(0,5):\n",
        "  y_init_pred = best_models[j].predict(X_test) > 0.5\n",
        "  y_init_pred = np.array([int(i) for i in y_init_pred])\n",
        "  cfm = confusion_matrix(y_test, y_init_pred)\n",
        "  acc = (accuracy_score(y_test, y_init_pred))\n",
        "  print(cfm)\n",
        "  print(f\"Accuracy score for model {j}\", acc)"
      ]
    },
    {
      "cell_type": "markdown",
      "metadata": {
        "id": "fnRvAJ2EO6-U"
      },
      "source": [
        "## Applying 10-Fold CV for ANN"
      ]
    },
    {
      "cell_type": "code",
      "execution_count": null,
      "metadata": {
        "id": "s2HgNvwkP0-U"
      },
      "outputs": [],
      "source": [
        "!pip install tensorflow scikeras scikit-learn"
      ]
    },
    {
      "cell_type": "code",
      "execution_count": null,
      "metadata": {
        "colab": {
          "base_uri": "https://localhost:8080/",
          "height": 1000
        },
        "id": "fugBiWuoO6-U",
        "outputId": "5ffb14c7-3688-49ea-9d0b-5d2adb3d574b"
      },
      "outputs": [],
      "source": [
        "from sklearn.model_selection import cross_val_score\n",
        "from scikeras.wrappers import KerasClassifier\n",
        "keras_clf = KerasClassifier(best_models[0])\n",
        "cvs = cross_val_score(keras_clf, X=X, y=y, scoring='accuracy', cv=10, n_jobs=-1, error_score='raise')\n",
        "print(\"Accuracy: {:.2f}%\".format(cvs.mean()*100))\n",
        "print(\"Accuracy Standard Deviation: {:.2f}%\".format(cvs.std()*100))"
      ]
    },
    {
      "cell_type": "markdown",
      "metadata": {
        "id": "wP8gAAluYSlu"
      },
      "source": [
        "## Applying Gaussian NB Model"
      ]
    },
    {
      "cell_type": "code",
      "execution_count": null,
      "metadata": {
        "colab": {
          "base_uri": "https://localhost:8080/",
          "height": 74
        },
        "id": "VozG5LKQYKj1",
        "outputId": "8e59a0de-781c-4280-fc58-d51ffe96ec51"
      },
      "outputs": [],
      "source": [
        "from sklearn.naive_bayes import GaussianNB\n",
        "gnb = GaussianNB()\n",
        "gnb.fit(X_train, y_train)"
      ]
    },
    {
      "cell_type": "markdown",
      "metadata": {
        "id": "RJA9VOQlYq6X"
      },
      "source": [
        "## Applying 10-fold CV for GNB"
      ]
    },
    {
      "cell_type": "code",
      "execution_count": null,
      "metadata": {
        "colab": {
          "base_uri": "https://localhost:8080/"
        },
        "id": "RBUjHTl4YuON",
        "outputId": "f3d25a09-a969-40d0-a270-3b9604cfadfa"
      },
      "outputs": [],
      "source": [
        "cvs_gnb = cross_val_score(gnb, X=X_train, y=y_train, scoring='accuracy', cv=10, n_jobs=-1)\n",
        "print(\"Accuracy: {:.2f}%\".format(cvs_gnb.mean()*100))\n",
        "print(\"Accuracy Standard Deviation: {:.2f}%\".format(cvs_gnb.std()*100))"
      ]
    },
    {
      "cell_type": "markdown",
      "metadata": {
        "id": "7ZK0TCQCO6-U"
      },
      "source": [
        "## Applying XGBoost model"
      ]
    },
    {
      "cell_type": "code",
      "execution_count": null,
      "metadata": {
        "colab": {
          "base_uri": "https://localhost:8080/",
          "height": 244
        },
        "id": "j2czuOWjO6-V",
        "outputId": "302ea158-a371-43b2-a406-044a12df9732"
      },
      "outputs": [],
      "source": [
        "from xgboost import XGBClassifier\n",
        "classifier = XGBClassifier()\n",
        "classifier.fit(X_train, y_train)"
      ]
    },
    {
      "cell_type": "markdown",
      "metadata": {
        "id": "fBMejLJgO6-V"
      },
      "source": [
        "## Applying 10-Fold CV for XGBoost"
      ]
    },
    {
      "cell_type": "code",
      "execution_count": null,
      "metadata": {
        "colab": {
          "base_uri": "https://localhost:8080/"
        },
        "id": "8462GTi2O6-V",
        "outputId": "6124489c-2613-4b44-8098-166745ce0625"
      },
      "outputs": [],
      "source": [
        "cvs_cb = cross_val_score(classifier, X=X_train, y=y_train, scoring='accuracy', cv=10, n_jobs=-1)\n",
        "print(\"Accuracy: {:.2f}%\".format(cvs_cb.mean()*100))\n",
        "print(\"Accuracy Standard Deviation: {:.2f}%\".format(cvs_cb.std()*100))"
      ]
    },
    {
      "cell_type": "code",
      "execution_count": null,
      "metadata": {
        "colab": {
          "base_uri": "https://localhost:8080/"
        },
        "id": "OezESzLSmesr",
        "outputId": "431f5cbe-d87e-4d46-f9c4-a15477d7d705"
      },
      "outputs": [],
      "source": [
        "!pip install catboost"
      ]
    },
    {
      "cell_type": "markdown",
      "metadata": {
        "id": "oG6vSkeEmcLL"
      },
      "source": [
        "## Applying CatBoost"
      ]
    },
    {
      "cell_type": "code",
      "execution_count": null,
      "metadata": {
        "colab": {
          "base_uri": "https://localhost:8080/",
          "height": 1000
        },
        "id": "01c2jcNumhjr",
        "outputId": "ab313af6-a648-4d03-b2e8-c4551e47a8b2"
      },
      "outputs": [],
      "source": [
        "from catboost import CatBoostClassifier\n",
        "from scipy import stats\n",
        "from sklearn.model_selection import RandomizedSearchCV\n",
        "\n",
        "catboost_clf = CatBoostClassifier()\n",
        "catboost_hparams = {\n",
        "    'n_estimators': [\n",
        "        50, 100, 150, 200, 250, 300\n",
        "    ],\n",
        "    'depth': [\n",
        "        4, 6, 8, 10, 12\n",
        "    ],\n",
        "    'learning_rate': stats.uniform(\n",
        "        loc=0.001, scale=0.099\n",
        "    ),\n",
        "    'l2_leaf_reg': stats.uniform(\n",
        "        loc=1, scale=9\n",
        "    )\n",
        "}\n",
        "\n",
        "catboost_cv = RandomizedSearchCV(\n",
        "    estimator=catboost_clf,\n",
        "    param_distributions=catboost_hparams,\n",
        "    n_iter=50,\n",
        "    scoring='accuracy',\n",
        "    n_jobs=-1,\n",
        "    cv=10,\n",
        "    verbose=0,\n",
        ")\n",
        "\n",
        "catboost_cv.fit(X=X, y=y)"
      ]
    },
    {
      "cell_type": "code",
      "execution_count": null,
      "metadata": {
        "colab": {
          "base_uri": "https://localhost:8080/",
          "height": 385
        },
        "id": "sEeipcCDnbOu",
        "outputId": "eb145196-e2bd-4d90-9c22-411186360922"
      },
      "outputs": [],
      "source": [
        "from sklearn.model_selection import cross_val_score\n",
        "cvs_cat = cross_val_score(catboost_cv, X=X, y=y, scoring='accuracy', cv=10, n_jobs=-1)"
      ]
    },
    {
      "cell_type": "code",
      "execution_count": null,
      "metadata": {
        "id": "fu4pFCjJijLB"
      },
      "outputs": [],
      "source": [
        "print(\"Accuracy: {:.2f}%\".format(cvs_cat.mean()*100))\n",
        "print(\"Accuracy Standard Deviation: {:.2f}%\".format(cvs_cat.std()*100))"
      ]
    },
    {
      "cell_type": "markdown",
      "metadata": {
        "id": "qTeYx_hjROAu"
      },
      "source": [
        "## Applying Random Forest Classification"
      ]
    },
    {
      "cell_type": "code",
      "execution_count": null,
      "metadata": {
        "colab": {
          "base_uri": "https://localhost:8080/",
          "height": 74
        },
        "id": "cCuAPWYGRMSo",
        "outputId": "b1284eaf-66df-4567-a176-40fc4d598944"
      },
      "outputs": [],
      "source": [
        "from sklearn.ensemble import RandomForestClassifier\n",
        "rfc = RandomForestClassifier(criterion='entropy', max_depth=15, n_jobs=-1)\n",
        "rfc.fit(X_train, y_train)"
      ]
    },
    {
      "cell_type": "markdown",
      "metadata": {
        "id": "C6tDhhUsR07_"
      },
      "source": [
        "## Applying 10-Fold CV for RFC"
      ]
    },
    {
      "cell_type": "code",
      "execution_count": null,
      "metadata": {
        "colab": {
          "base_uri": "https://localhost:8080/"
        },
        "id": "WwfbwzwUR4pa",
        "outputId": "73b90815-284b-475d-c435-512a3a96b36b"
      },
      "outputs": [],
      "source": [
        "cvs_rfc = cross_val_score(rfc, X=X_train, y=y_train, scoring='accuracy', cv=10, n_jobs=-1)\n",
        "print(\"Accuracy: {:.2f}%\".format(cvs_rfc.mean()*100))\n",
        "print(\"Accuracy Standard Deviation: {:.2f}%\".format(cvs_rfc.std()*100))"
      ]
    },
    {
      "cell_type": "markdown",
      "metadata": {
        "id": "XQQQ69QbVYKD"
      },
      "source": [
        "## Implementing SVM Classification"
      ]
    },
    {
      "cell_type": "code",
      "execution_count": null,
      "metadata": {
        "colab": {
          "base_uri": "https://localhost:8080/",
          "height": 74
        },
        "id": "EpRT9ZeoVby3",
        "outputId": "2fefea97-4ba0-4517-c320-bb0a02d355b3"
      },
      "outputs": [],
      "source": [
        "from sklearn.svm import SVC\n",
        "svc = SVC(kernel='rbf', C=0.25, gamma=0.2)\n",
        "svc.fit(X_train, y_train)\n"
      ]
    },
    {
      "cell_type": "markdown",
      "metadata": {
        "id": "jTQQompLWbkk"
      },
      "source": [
        "## Applying 10-Fold CV for SVC"
      ]
    },
    {
      "cell_type": "code",
      "execution_count": null,
      "metadata": {
        "colab": {
          "base_uri": "https://localhost:8080/"
        },
        "id": "7KsdLIsCWe94",
        "outputId": "3c6c0765-5d78-4326-8b20-6a1b8764dd5f"
      },
      "outputs": [],
      "source": [
        "cvs_svc = cross_val_score(svc, X=X_train, y=y_train, scoring='accuracy', cv=10, n_jobs=-1)\n",
        "print(\"Accuracy: {:.2f}%\".format(cvs_svc.mean()*100))\n",
        "print(\"Accuracy Standard Deviation: {:.2f}%\".format(cvs_svc.std()*100))"
      ]
    },
    {
      "cell_type": "markdown",
      "metadata": {
        "id": "izj13ZhiWfS9"
      },
      "source": [
        "## Applying Grid Search CV for Hyperparameter Tuning of SVC"
      ]
    },
    {
      "cell_type": "code",
      "execution_count": null,
      "metadata": {
        "colab": {
          "base_uri": "https://localhost:8080/"
        },
        "id": "RZcp3owkWjJ9",
        "outputId": "63813a6e-468e-4861-bf31-30815ad714f7"
      },
      "outputs": [],
      "source": [
        "from sklearn.model_selection import GridSearchCV\n",
        "parameters = [{\n",
        "    'C': [0.25, 0.5, 0.75, 1],\n",
        "    'kernel': ['linear'],\n",
        "              },\n",
        "              {\n",
        "                'C': [0.25, 0.5, 0.75, 1],\n",
        "                'kernel': ['rbf'],\n",
        "                'gamma': [0.1, 0.2, 0.3, 0.4, 0.5, 0.6, 0.7, 0.8, 0.9],\n",
        "              }]\n",
        "gs = GridSearchCV(classifier, param_grid=parameters, scoring='accuracy', cv=10, n_jobs = -1)\n",
        "gs.fit(X_train, y_train)\n",
        "best_accuracy = gs.best_score_\n",
        "best_params = gs.best_params_\n",
        "print(\"Best Accuracy: {:.2f}%\".format(best_accuracy*100))\n",
        "print(\"Best Parameters: {}\".format(best_params))"
      ]
    },
    {
      "cell_type": "markdown",
      "metadata": {
        "id": "HvVWpUhfHw8V"
      },
      "source": [
        "## Applying KNN Classification"
      ]
    },
    {
      "cell_type": "code",
      "execution_count": null,
      "metadata": {
        "colab": {
          "base_uri": "https://localhost:8080/",
          "height": 74
        },
        "id": "ZbCB1hYNc7tG",
        "outputId": "c11937d3-6944-42e1-9d8d-51c3a3be9079"
      },
      "outputs": [],
      "source": [
        "from sklearn.neighbors import KNeighborsClassifier\n",
        "knc = KNeighborsClassifier(n_neighbors=6, weights='distance')\n",
        "knc.fit(X_train, y_train)"
      ]
    },
    {
      "cell_type": "markdown",
      "metadata": {
        "id": "lH6Kjdw8dW60"
      },
      "source": [
        "## Applying 10-fold CV for KNN Classification"
      ]
    },
    {
      "cell_type": "code",
      "execution_count": null,
      "metadata": {
        "colab": {
          "base_uri": "https://localhost:8080/"
        },
        "id": "ZAZrMHFpdWQB",
        "outputId": "9ff92f9b-b40b-40f9-c5b8-ac0777c89f76"
      },
      "outputs": [],
      "source": [
        "cvs_knc = cross_val_score(knc, X=X_train, y=y_train, scoring='accuracy', cv=10, n_jobs=-1)\n",
        "print(\"Accuracy: {:.2f}%\".format(cvs_svc.mean()*100))\n",
        "print(\"Accuracy Standard Deviation: {:.2f}%\".format(cvs_svc.std()*100))"
      ]
    },
    {
      "cell_type": "markdown",
      "metadata": {
        "id": "9NUWUCwNRKrg"
      },
      "source": [
        "## Output"
      ]
    },
    {
      "cell_type": "markdown",
      "metadata": {
        "id": "Aw-gnsyHO6-W"
      },
      "source": [
        "ANN Model is Chosen due to better accuracy average score and a lower standard deviation during CV. Now we can use ANN to predict test set"
      ]
    },
    {
      "cell_type": "code",
      "execution_count": null,
      "metadata": {
        "colab": {
          "base_uri": "https://localhost:8080/"
        },
        "id": "ELT2zXjxO6-W",
        "outputId": "0829c507-90b6-41e0-ec3d-2cf9641a335e"
      },
      "outputs": [],
      "source": [
        "y_pred = best_models[3].predict(test_set) > 0.5\n",
        "y_pred = [int(i) for i in y_pred]\n",
        "print(y_pred)"
      ]
    },
    {
      "cell_type": "code",
      "execution_count": null,
      "metadata": {
        "colab": {
          "base_uri": "https://localhost:8080/"
        },
        "id": "49kn4NMOO6-W",
        "outputId": "1053a6c0-e0db-4399-dd32-72ccc291d09c"
      },
      "outputs": [],
      "source": [
        "test = pd.read_csv(\"test.csv\")\n",
        "passenid = test['PassengerId']\n",
        "print(passenid)\n",
        "print(y_pred)\n",
        "output = pd.DataFrame({'PassengerId': passenid, 'Survived': y_pred})\n",
        "output.to_csv('submission_without_fit2.csv', index=False)"
      ]
    }
  ],
  "metadata": {
    "accelerator": "GPU",
    "colab": {
      "gpuType": "T4",
      "provenance": []
    },
    "kernelspec": {
      "display_name": "Python 3",
      "name": "python3"
    },
    "language_info": {
      "codemirror_mode": {
        "name": "ipython",
        "version": 3
      },
      "file_extension": ".py",
      "mimetype": "text/x-python",
      "name": "python",
      "nbconvert_exporter": "python",
      "pygments_lexer": "ipython3",
      "version": "3.11.3 (v3.11.3:f3909b8bc8, Apr  4 2023, 20:12:10) [Clang 13.0.0 (clang-1300.0.29.30)]"
    },
    "orig_nbformat": 4,
    "vscode": {
      "interpreter": {
        "hash": "aee8b7b246df8f9039afb4144a1f6fd8d2ca17a180786b69acc140d282b71a49"
      }
    }
  },
  "nbformat": 4,
  "nbformat_minor": 0
}
